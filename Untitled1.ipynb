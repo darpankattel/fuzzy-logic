{
 "cells": [
  {
   "cell_type": "code",
   "execution_count": 1,
   "id": "c6a89355-0f62-42b7-bb24-d6be915e3cd9",
   "metadata": {},
   "outputs": [
    {
     "data": {
      "text/plain": [
       "'\\nCSV Headers:    No,1,2,3,4,Learning Level\\nExample Value:  1,16,24,28,32,ADVANCE\\nMappings:       1 = Listening\\n                2 = Vocabulary\\n                3 = Structure\\n                4 = Reading\\n'"
      ]
     },
     "execution_count": 1,
     "metadata": {},
     "output_type": "execute_result"
    }
   ],
   "source": [
    "\"\"\"\n",
    "CSV Headers:    No,1,2,3,4,Learning Level\n",
    "Example Value:  1,16,24,28,32,ADVANCE\n",
    "Mappings:       1 = Listening\n",
    "                2 = Vocabulary\n",
    "                3 = Structure\n",
    "                4 = Reading\n",
    "\"\"\""
   ]
  },
  {
   "cell_type": "code",
   "execution_count": null,
   "id": "bfcab4a6-9ae3-4686-b793-0d34b675aa45",
   "metadata": {},
   "outputs": [],
   "source": []
  }
 ],
 "metadata": {
  "kernelspec": {
   "display_name": "Python 3 (ipykernel)",
   "language": "python",
   "name": "python3"
  },
  "language_info": {
   "codemirror_mode": {
    "name": "ipython",
    "version": 3
   },
   "file_extension": ".py",
   "mimetype": "text/x-python",
   "name": "python",
   "nbconvert_exporter": "python",
   "pygments_lexer": "ipython3",
   "version": "3.9.5"
  }
 },
 "nbformat": 4,
 "nbformat_minor": 5
}
